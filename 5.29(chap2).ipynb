{
 "cells": [
  {
   "cell_type": "markdown",
   "metadata": {},
   "source": [
    "# chapter 02. 파이썬의 기본 문법"
   ]
  },
  {
   "cell_type": "code",
   "execution_count": 1,
   "metadata": {},
   "outputs": [
    {
     "name": "stdout",
     "output_type": "stream",
     "text": [
      "50\n"
     ]
    }
   ],
   "source": [
    "# 예제 2-1\n",
    "\n",
    "a=20\n",
    "b=30\n",
    "c=a+b\n",
    "print(c)"
   ]
  },
  {
   "cell_type": "code",
   "execution_count": 3,
   "metadata": {},
   "outputs": [
    {
     "name": "stdout",
     "output_type": "stream",
     "text": [
      "20 Mac 30 70 1997 20.3\n"
     ]
    }
   ],
   "source": [
    "# 예제 2-2\n",
    "\n",
    "x=20\n",
    "Computer = 'Mac'\n",
    "Age=30\n",
    "my_score = 70\n",
    "_name='홍길동'\n",
    "myBirthYear = 1997\n",
    "data2=20.3\n",
    "\n",
    "print(x, Computer, Age, my_score, myBirthYear, data2)"
   ]
  },
  {
   "cell_type": "code",
   "execution_count": 6,
   "metadata": {},
   "outputs": [
    {
     "name": "stdout",
     "output_type": "stream",
     "text": [
      "20 Mac 30 70 1997 20.3\n"
     ]
    }
   ],
   "source": [
    "# 예제 2-2 (대문자를 소문자로 바꾸기.. 그게 더 편하고 규칙)\n",
    "\n",
    "x=20\n",
    "computer = 'Mac'\n",
    "age=30\n",
    "my_score = 70\n",
    "_name='홍길동'\n",
    "my_birth_year = 1997\n",
    "data2=20.3\n",
    "\n",
    "print(x, computer, age, my_score, my_birth_year, data2)"
   ]
  },
  {
   "cell_type": "code",
   "execution_count": null,
   "metadata": {},
   "outputs": [],
   "source": [
    "# 예제 2-3"
   ]
  },
  {
   "cell_type": "code",
   "execution_count": 7,
   "metadata": {},
   "outputs": [
    {
     "name": "stdout",
     "output_type": "stream",
     "text": [
      "30\n",
      "<class 'int'>\n"
     ]
    }
   ],
   "source": [
    "# 예제 2-4\n",
    "\n",
    "x=30\n",
    "print(x)\n",
    "print(type(x))"
   ]
  },
  {
   "cell_type": "code",
   "execution_count": 10,
   "metadata": {},
   "outputs": [
    {
     "name": "stdout",
     "output_type": "stream",
     "text": [
      "3.3764 3.0\n",
      "<class 'float'> <class 'float'>\n"
     ]
    }
   ],
   "source": [
    "# 예제 2-5\n",
    "\n",
    "x=3.3764\n",
    "y=6/2\n",
    "print(x,y)\n",
    "print(type(x), type(y))"
   ]
  },
  {
   "cell_type": "code",
   "execution_count": 11,
   "metadata": {},
   "outputs": [
    {
     "name": "stdout",
     "output_type": "stream",
     "text": [
      "x\n",
      "I am ok\n",
      "안녕하세요.\n",
      "<class 'str'>\n"
     ]
    }
   ],
   "source": [
    "# 예제 2-6\n",
    "\n",
    "a='x'\n",
    "b='I am ok'\n",
    "c=\"안녕하세요.\"\n",
    "\n",
    "print(a)\n",
    "print(b)\n",
    "print(c)\n",
    "print(type(c))"
   ]
  },
  {
   "cell_type": "code",
   "execution_count": 14,
   "metadata": {},
   "outputs": [
    {
     "name": "stdout",
     "output_type": "stream",
     "text": [
      "30\n",
      "<class 'int'>\n",
      "30\n",
      "<class 'str'>\n"
     ]
    }
   ],
   "source": [
    "# 예제 2-7\n",
    "\n",
    "a=30\n",
    "print(a)\n",
    "print(type(a))\n",
    "\n",
    "b='30'\n",
    "print(b)\n",
    "print(type(b))"
   ]
  },
  {
   "cell_type": "code",
   "execution_count": 24,
   "metadata": {},
   "outputs": [
    {
     "name": "stdout",
     "output_type": "stream",
     "text": [
      "I am happy!\n",
      "I\n",
      "I a\n",
      "happy!\n",
      "!\n",
      "py!\n",
      "pp\n",
      "   \n",
      "11\n"
     ]
    }
   ],
   "source": [
    "# 예제 2-8\n",
    "x='I am happy!'\n",
    "\n",
    "print(x)\n",
    "print(x[0])\n",
    "print(x[0:3])\n",
    "print(x[5:])\n",
    "print(x[-1])\n",
    "print(x[-3:])\n",
    "print(x[-4:-2])\n",
    "print(x[1], x[4])\n",
    "\n",
    "print(len(x))"
   ]
  },
  {
   "cell_type": "code",
   "execution_count": 40,
   "metadata": {},
   "outputs": [
    {
     "name": "stdout",
     "output_type": "stream",
     "text": [
      "나는 \n",
      "행복합니다\n",
      "행복\n",
      "행복합\n",
      "행복합니\n",
      "행복합니다\n",
      "행복합니다\n"
     ]
    }
   ],
   "source": [
    "y= '나는 행복합니다'\n",
    "\n",
    "print(y[0:3])\n",
    "\n",
    "print(y[3:8])\n",
    "\n",
    "start =3\n",
    "print(y[start:start+2])\n",
    "print(y[start:start+3])\n",
    "print(y[start:start+4])\n",
    "print(y[start:start+5])\n",
    "print(y[start:start+6])"
   ]
  },
  {
   "cell_type": "code",
   "execution_count": 42,
   "metadata": {},
   "outputs": [
    {
     "name": "stdout",
     "output_type": "stream",
     "text": [
      "강아지 happy happy\n"
     ]
    }
   ],
   "source": [
    "z = '내 강아지 이름은 happy에요.'\n",
    "\n",
    "print(z[2:5], z[10:15], z[-8:-3])\n"
   ]
  },
  {
   "cell_type": "code",
   "execution_count": 45,
   "metadata": {},
   "outputs": [
    {
     "name": "stdout",
     "output_type": "stream",
     "text": [
      "True\n",
      "False\n",
      "False\n",
      "True\n",
      "<class 'bool'>\n"
     ]
    }
   ],
   "source": [
    "# 예제 2-9\n",
    "\n",
    "a= True\n",
    "b= False\n",
    "print(a)\n",
    "print(b)\n",
    "\n",
    "\n",
    "c=10>20\n",
    "print(c)\n",
    "d=10<20\n",
    "print(d)\n",
    "\n",
    "\n",
    "print(type(a))"
   ]
  },
  {
   "cell_type": "code",
   "execution_count": 46,
   "metadata": {},
   "outputs": [
    {
     "name": "stdout",
     "output_type": "stream",
     "text": [
      "209.0\n"
     ]
    }
   ],
   "source": [
    "# 예제 2-10\n",
    "\n",
    "a= 10\n",
    "b=20\n",
    "\n",
    "c= a+b*10 -5 / 5\n",
    "print(c)"
   ]
  },
  {
   "cell_type": "code",
   "execution_count": 50,
   "metadata": {},
   "outputs": [
    {
     "name": "stdout",
     "output_type": "stream",
     "text": [
      "1\n",
      "2.3333333333333335\n",
      "2\n"
     ]
    }
   ],
   "source": [
    "# 예제 2-11\n",
    "\n",
    "x=10%3\n",
    "print(x)\n",
    "\n",
    "y=7/3\n",
    "print(y)\n",
    "\n",
    "z=7//3\n",
    "print(z)"
   ]
  },
  {
   "cell_type": "code",
   "execution_count": 51,
   "metadata": {},
   "outputs": [
    {
     "name": "stdout",
     "output_type": "stream",
     "text": [
      "8\n",
      "10000\n"
     ]
    }
   ],
   "source": [
    "# 예제 2-12\n",
    "\n",
    "x=2**3\n",
    "print(x)\n",
    "\n",
    "y=10**4\n",
    "print(y)"
   ]
  },
  {
   "cell_type": "code",
   "execution_count": 52,
   "metadata": {},
   "outputs": [
    {
     "name": "stdout",
     "output_type": "stream",
     "text": [
      "30\n"
     ]
    }
   ],
   "source": [
    "# 예제 2-13\n",
    "\n",
    "x=10\n",
    "x+=20\n",
    "print(x)"
   ]
  },
  {
   "cell_type": "code",
   "execution_count": 54,
   "metadata": {},
   "outputs": [
    {
     "name": "stdout",
     "output_type": "stream",
     "text": [
      "24\n"
     ]
    }
   ],
   "source": [
    "# 예제 2-14\n",
    "\n",
    "x=3\n",
    "y=5\n",
    "x*=x+y\n",
    "print(x)"
   ]
  },
  {
   "cell_type": "code",
   "execution_count": null,
   "metadata": {},
   "outputs": [],
   "source": []
  },
  {
   "cell_type": "code",
   "execution_count": 55,
   "metadata": {},
   "outputs": [
    {
     "name": "stdout",
     "output_type": "stream",
     "text": [
      "안녕안녕안녕안녕안녕\n"
     ]
    }
   ],
   "source": [
    "# 예제 2-15\n",
    "\n",
    "hello='안녕'*5\n",
    "print(hello)\n"
   ]
  },
  {
   "cell_type": "code",
   "execution_count": 56,
   "metadata": {},
   "outputs": [
    {
     "name": "stdout",
     "output_type": "stream",
     "text": [
      "15\n"
     ]
    }
   ],
   "source": [
    "# 예제 2-16\n",
    "\n",
    "a= '쥐 구멍에 볕 들 날 있다.'\n",
    "b=len(a)\n",
    "\n",
    "print(b)"
   ]
  },
  {
   "cell_type": "code",
   "execution_count": 58,
   "metadata": {},
   "outputs": [
    {
     "name": "stdout",
     "output_type": "stream",
     "text": [
      "홍지수님 안녕하세요!\n"
     ]
    }
   ],
   "source": [
    "# 예제 2-17\n",
    "\n",
    "name='홍지수'\n",
    "greet = name + '님 안녕하세요!'\n",
    "print(greet)"
   ]
  },
  {
   "cell_type": "code",
   "execution_count": 64,
   "metadata": {},
   "outputs": [
    {
     "ename": "TypeError",
     "evalue": "can only concatenate str (not \"int\") to str",
     "output_type": "error",
     "traceback": [
      "\u001b[1;31m---------------------------------------------------------------------------\u001b[0m",
      "\u001b[1;31mTypeError\u001b[0m                                 Traceback (most recent call last)",
      "\u001b[1;32m<ipython-input-64-4a35465ececc>\u001b[0m in \u001b[0;36m<module>\u001b[1;34m\u001b[0m\n\u001b[0;32m      2\u001b[0m \u001b[1;33m\u001b[0m\u001b[0m\n\u001b[0;32m      3\u001b[0m \u001b[0meng\u001b[0m\u001b[1;33m=\u001b[0m\u001b[1;36m80\u001b[0m\u001b[1;33m\u001b[0m\u001b[1;33m\u001b[0m\u001b[0m\n\u001b[1;32m----> 4\u001b[1;33m \u001b[0mresult\u001b[0m \u001b[1;33m=\u001b[0m \u001b[1;34m'영어점수 : '\u001b[0m \u001b[1;33m+\u001b[0m \u001b[0meng\u001b[0m \u001b[1;33m+\u001b[0m \u001b[1;34m'점'\u001b[0m\u001b[1;33m\u001b[0m\u001b[1;33m\u001b[0m\u001b[0m\n\u001b[0m\u001b[0;32m      5\u001b[0m \u001b[0mprint\u001b[0m\u001b[1;33m(\u001b[0m\u001b[0mresult\u001b[0m\u001b[1;33m)\u001b[0m\u001b[1;33m\u001b[0m\u001b[1;33m\u001b[0m\u001b[0m\n",
      "\u001b[1;31mTypeError\u001b[0m: can only concatenate str (not \"int\") to str"
     ]
    }
   ],
   "source": [
    "# 예제 2-18 (정답은 오류 뜨는 것이 맞음)\n",
    "\n",
    "eng=80\n",
    "result = '영어점수 : ' + eng + '점'\n",
    "print(result)"
   ]
  },
  {
   "cell_type": "code",
   "execution_count": 65,
   "metadata": {},
   "outputs": [
    {
     "name": "stdout",
     "output_type": "stream",
     "text": [
      "영어점수 : 80점\n"
     ]
    }
   ],
   "source": [
    "# 예제 2-19\n",
    "\n",
    "eng=80\n",
    "result = '영어점수 : ' + str(eng) + '점'\n",
    "print(result)"
   ]
  },
  {
   "cell_type": "code",
   "execution_count": 66,
   "metadata": {},
   "outputs": [
    {
     "name": "stdout",
     "output_type": "stream",
     "text": [
      "나는 김수영입니다.\n"
     ]
    }
   ],
   "source": [
    "# 예제 2-20\n",
    "\n",
    "name = '김수영'\n",
    "a = '나는 %s입니다.' %name\n",
    "print(a)"
   ]
  },
  {
   "cell_type": "code",
   "execution_count": 67,
   "metadata": {},
   "outputs": [
    {
     "name": "stdout",
     "output_type": "stream",
     "text": [
      "나이는 20입니다.\n"
     ]
    }
   ],
   "source": [
    "# 예제 2-21\n",
    "\n",
    "age=20\n",
    "a= '나이는 %d입니다.' %age\n",
    "print(a)"
   ]
  },
  {
   "cell_type": "code",
   "execution_count": 72,
   "metadata": {},
   "outputs": [
    {
     "name": "stdout",
     "output_type": "stream",
     "text": [
      "2020-02-05\n"
     ]
    }
   ],
   "source": [
    "# 예제 2-22\n",
    "\n",
    "year= 2020\n",
    "month = 2\n",
    "day =5\n",
    "\n",
    "a='%d-%02d-%02d' %(year,month,day)\n",
    "print(a)\n",
    "\n"
   ]
  },
  {
   "cell_type": "code",
   "execution_count": 75,
   "metadata": {},
   "outputs": [
    {
     "name": "stdout",
     "output_type": "stream",
     "text": [
      "키는 172.50입니다\n"
     ]
    }
   ],
   "source": [
    "# 예제 2-23\n",
    "\n",
    "height=172.5\n",
    "a= '키는 %.2f입니다' %height\n",
    "print(a)"
   ]
  },
  {
   "cell_type": "code",
   "execution_count": 76,
   "metadata": {},
   "outputs": [
    {
     "name": "stdout",
     "output_type": "stream",
     "text": [
      "키는     172.50입니다\n"
     ]
    }
   ],
   "source": [
    "height=172.5\n",
    "a= '키는 %10.2f입니다' %height\n",
    "print(a)"
   ]
  },
  {
   "cell_type": "code",
   "execution_count": 74,
   "metadata": {},
   "outputs": [
    {
     "name": "stdout",
     "output_type": "stream",
     "text": [
      "이름: 황예린 나이: 18 시력: 1.2\n",
      "이름: 황예린\n",
      "나이: 18\n",
      "시력: 1.2\n"
     ]
    }
   ],
   "source": [
    "# 예제 2-24\n",
    "\n",
    "name='황예린'\n",
    "age=18\n",
    "eyesight=1.2\n",
    "\n",
    "a='이름: {}'.format(name)\n",
    "b='나이: {}'.format(age)\n",
    "c='시력: {}'.format(eyesight)\n",
    "print(a,b,c)\n",
    "print(a)\n",
    "print(b)\n",
    "print(c)"
   ]
  },
  {
   "cell_type": "code",
   "execution_count": 86,
   "metadata": {},
   "outputs": [
    {
     "data": {
      "text/plain": [
       "1"
      ]
     },
     "execution_count": 86,
     "metadata": {},
     "output_type": "execute_result"
    }
   ],
   "source": [
    "# 문자열 메소드\n",
    "x='I am happy!'\n",
    "\n",
    "x.count('am')"
   ]
  },
  {
   "cell_type": "code",
   "execution_count": 88,
   "metadata": {},
   "outputs": [
    {
     "data": {
      "text/plain": [
       "5"
      ]
     },
     "execution_count": 88,
     "metadata": {},
     "output_type": "execute_result"
    }
   ],
   "source": [
    "x.find('happy')"
   ]
  },
  {
   "cell_type": "code",
   "execution_count": 91,
   "metadata": {},
   "outputs": [
    {
     "data": {
      "text/plain": [
       "'I AM HAPPY!'"
      ]
     },
     "execution_count": 91,
     "metadata": {},
     "output_type": "execute_result"
    }
   ],
   "source": [
    "x.upper()"
   ]
  },
  {
   "cell_type": "code",
   "execution_count": 92,
   "metadata": {},
   "outputs": [
    {
     "data": {
      "text/plain": [
       "'i am happy!'"
      ]
     },
     "execution_count": 92,
     "metadata": {},
     "output_type": "execute_result"
    }
   ],
   "source": [
    "x.lower()"
   ]
  },
  {
   "cell_type": "code",
   "execution_count": 94,
   "metadata": {},
   "outputs": [
    {
     "data": {
      "text/plain": [
       "['I', 'am', 'happy!']"
      ]
     },
     "execution_count": 94,
     "metadata": {},
     "output_type": "execute_result"
    }
   ],
   "source": [
    "x.split()"
   ]
  },
  {
   "cell_type": "code",
   "execution_count": 96,
   "metadata": {},
   "outputs": [
    {
     "data": {
      "text/plain": [
       "False"
      ]
     },
     "execution_count": 96,
     "metadata": {},
     "output_type": "execute_result"
    }
   ],
   "source": [
    "x='I am happy!'\n",
    "x.isspace()"
   ]
  },
  {
   "cell_type": "code",
   "execution_count": 98,
   "metadata": {},
   "outputs": [
    {
     "data": {
      "text/plain": [
       "'I was happy!'"
      ]
     },
     "execution_count": 98,
     "metadata": {},
     "output_type": "execute_result"
    }
   ],
   "source": [
    "x.replace(\"am\",\"was\")"
   ]
  },
  {
   "cell_type": "code",
   "execution_count": 83,
   "metadata": {},
   "outputs": [
    {
     "name": "stdout",
     "output_type": "stream",
     "text": [
      "홍길동 30 173.7\n"
     ]
    }
   ],
   "source": [
    "# 예제 2-25\n",
    "\n",
    "name= '홍길동'\n",
    "age=30\n",
    "height=173.7\n",
    "print(name,age,height)"
   ]
  },
  {
   "cell_type": "code",
   "execution_count": 82,
   "metadata": {},
   "outputs": [
    {
     "name": "stdout",
     "output_type": "stream",
     "text": [
      "x=10, y=20\n"
     ]
    }
   ],
   "source": [
    "# 예제 2-26\n",
    "\n",
    "x=10\n",
    "y=20\n",
    "\n",
    "print('x=' + str(x)+', y='+str(y))"
   ]
  },
  {
   "cell_type": "code",
   "execution_count": 113,
   "metadata": {},
   "outputs": [
    {
     "name": "stdout",
     "output_type": "stream",
     "text": [
      "두 과목 점수 : 80,87\n",
      "합계: 167, 평균: 83.5\n"
     ]
    }
   ],
   "source": [
    "# 예제 2-27\n",
    "\n",
    "\n",
    "score1=80\n",
    "score2=87\n",
    "\n",
    "sum= score1 + score2\n",
    "avg = sum/2\n",
    "\n",
    "print('두 과목 점수 : %d,%d' %(score1,score2))\n",
    "print('합계: %d, 평균: %.1f' %(sum,avg)) "
   ]
  },
  {
   "cell_type": "code",
   "execution_count": 115,
   "metadata": {},
   "outputs": [
    {
     "name": "stdout",
     "output_type": "stream",
     "text": [
      "오늘은\n",
      "2020 5 29\n",
      "입니다\n"
     ]
    }
   ],
   "source": [
    "# sep, end\n",
    "\n",
    "print('오늘은')\n",
    "\n",
    "year=2020\n",
    "month=5\n",
    "day=29\n",
    "\n",
    "print(year,month,day)\n",
    "print('입니다')"
   ]
  },
  {
   "cell_type": "code",
   "execution_count": 118,
   "metadata": {},
   "outputs": [
    {
     "name": "stdout",
     "output_type": "stream",
     "text": [
      "오늘은 2020/5/29 입니다\n"
     ]
    }
   ],
   "source": [
    "# 오늘은 2020/5/29입니다\n",
    "\n",
    "print('오늘은',end=' ')\n",
    "print(year,month,day,sep='/', end=' ')\n",
    "print('입니다')"
   ]
  },
  {
   "cell_type": "code",
   "execution_count": 109,
   "metadata": {},
   "outputs": [
    {
     "name": "stdout",
     "output_type": "stream",
     "text": [
      "이름 : 김소원\n",
      "아이디: kim, 마일리지: 18000 \n"
     ]
    }
   ],
   "source": [
    "# 예제 2-28\n",
    "\n",
    "name = '김소원'\n",
    "id= 'kim'\n",
    "point = 18000\n",
    "\n",
    "print('이름 : {}'.format(name))\n",
    "print('아이디: {}, 마일리지: {} ' .format(id,point))"
   ]
  },
  {
   "cell_type": "code",
   "execution_count": 110,
   "metadata": {},
   "outputs": [
    {
     "name": "stdout",
     "output_type": "stream",
     "text": [
      "2020/3/5\n"
     ]
    }
   ],
   "source": [
    "# 예제 2-29\n",
    "\n",
    "year =2020\n",
    "month =3\n",
    "day =5\n",
    "\n",
    "print(year,month,day,sep='/')"
   ]
  },
  {
   "cell_type": "code",
   "execution_count": 112,
   "metadata": {},
   "outputs": [
    {
     "name": "stdout",
     "output_type": "stream",
     "text": [
      "안녕하세요\n",
      "반갑습니다\n",
      "\n",
      "\n",
      "\n",
      "안녕하세요반갑습니다\n"
     ]
    }
   ],
   "source": [
    "# 예제 2-30\n",
    "\n",
    "a='안녕하세요'\n",
    "b='반갑습니다'\n",
    "\n",
    "print(a)\n",
    "print(b)\n",
    "\n",
    "print('\\n\\n')\n",
    "\n",
    "print(a,end='')\n",
    "print(b)\n"
   ]
  },
  {
   "cell_type": "code",
   "execution_count": 121,
   "metadata": {},
   "outputs": [
    {
     "name": "stdout",
     "output_type": "stream",
     "text": [
      "이름을 입력하시오 : sdsdzxczxc\n",
      "sdsdzxczxc님 반갑습니다.\n"
     ]
    }
   ],
   "source": [
    "# 예제 2-31\n",
    "\n",
    "name = input(\"이름을 입력하시오 : \")\n",
    "print('%s님 반갑습니다.' %name)"
   ]
  },
  {
   "cell_type": "code",
   "execution_count": 124,
   "metadata": {},
   "outputs": [
    {
     "name": "stdout",
     "output_type": "stream",
     "text": [
      "첫번째 숫자를 입력하시오 : \n",
      "두번째 숫자를 입력하시오 : \n",
      "\n",
      "<class 'str'> <class 'str'> <class 'str'>\n"
     ]
    }
   ],
   "source": [
    "# 예제 2-32\n",
    "\n",
    "a= input(\"첫번째 숫자를 입력하시오 : \")\n",
    "b= input(\"두번째 숫자를 입력하시오 : \")\n",
    "\n",
    "c= a+b\n",
    "\n",
    "print(c)\n",
    "\n",
    "print(type(a),type(b),type(c))"
   ]
  },
  {
   "cell_type": "code",
   "execution_count": 1,
   "metadata": {},
   "outputs": [
    {
     "name": "stdout",
     "output_type": "stream",
     "text": [
      "첫번째 숫자를 입력하세요: 51512\n",
      "두번째 숫자를 입력하세요: 5454888\n",
      "5506400\n"
     ]
    }
   ],
   "source": [
    "# 예제 2-33\n",
    "\n",
    "a=input(\"첫번째 숫자를 입력하세요: \")\n",
    "b=input(\"두번째 숫자를 입력하세요: \")\n",
    "\n",
    "c= int(a)+int(b)\n",
    "\n",
    "print(c)"
   ]
  },
  {
   "cell_type": "code",
   "execution_count": 4,
   "metadata": {},
   "outputs": [
    {
     "name": "stdout",
     "output_type": "stream",
     "text": [
      "인치(inch)를 입력하세요 : 78844463\n",
      "센티미터 : 200264936\n",
      "센티미터 : 200264936.0\n",
      "센티미터 : 200264936.02\n",
      "센티미터 : 200264936.020\n"
     ]
    }
   ],
   "source": [
    "# 예제 2-34\n",
    "\n",
    "inch = float(input('인치(inch)를 입력하세요 : '))\n",
    "\n",
    "cm = inch * 2.54\n",
    "\n",
    "print('센티미터 : %.f' %cm)\n",
    "print('센티미터 : %.1f' %cm)\n",
    "print('센티미터 : %.2f' %cm)\n",
    "print('센티미터 : %.3f' %cm)"
   ]
  },
  {
   "cell_type": "code",
   "execution_count": 8,
   "metadata": {},
   "outputs": [
    {
     "name": "stdout",
     "output_type": "stream",
     "text": [
      "삼각형의 밑변 길이 :  10 \n",
      "\n",
      "\n",
      "삼각형의 높이 길이 :  3 \n",
      "\n",
      "\n",
      "삼각형의 면적 :  15.0\n"
     ]
    }
   ],
   "source": [
    "# Q2-1\n",
    "\n",
    "width = 10\n",
    "height=3\n",
    "\n",
    "area = width * height / 2\n",
    "\n",
    "print('삼각형의 밑변 길이 : ',width,'\\n\\n')\n",
    "\n",
    "print('삼각형의 높이 길이 : ',height,'\\n\\n')\n",
    "\n",
    "print('삼각형의 면적 : ', area)"
   ]
  },
  {
   "cell_type": "code",
   "execution_count": 11,
   "metadata": {},
   "outputs": [
    {
     "name": "stdout",
     "output_type": "stream",
     "text": [
      "물건가격 :  800\n",
      "2600\n"
     ]
    }
   ],
   "source": [
    "# Q2-2\n",
    "\n",
    "#물건 가격: 800\n",
    "# 구매개수 : 3\n",
    "# 지불금액: 5000\n",
    "# 거스름돈: 2600\n",
    "\n",
    "\n",
    "price =800\n",
    "buy=3\n",
    "pay = 5000\n",
    "\n",
    "change = pay - price * buy \n",
    "\n",
    "print('물건가격 : ',price)\n",
    "\n",
    "print(change)"
   ]
  },
  {
   "cell_type": "code",
   "execution_count": null,
   "metadata": {},
   "outputs": [],
   "source": []
  },
  {
   "cell_type": "code",
   "execution_count": null,
   "metadata": {},
   "outputs": [],
   "source": []
  },
  {
   "cell_type": "code",
   "execution_count": null,
   "metadata": {},
   "outputs": [],
   "source": []
  }
 ],
 "metadata": {
  "kernelspec": {
   "display_name": "Python 3",
   "language": "python",
   "name": "python3"
  },
  "language_info": {
   "codemirror_mode": {
    "name": "ipython",
    "version": 3
   },
   "file_extension": ".py",
   "mimetype": "text/x-python",
   "name": "python",
   "nbconvert_exporter": "python",
   "pygments_lexer": "ipython3",
   "version": "3.7.6"
  }
 },
 "nbformat": 4,
 "nbformat_minor": 4
}
