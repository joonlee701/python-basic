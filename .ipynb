{
 "cells": [
  {
   "cell_type": "markdown",
   "metadata": {},
   "source": [
    "# 2장 연습문제(P98~99)"
   ]
  },
  {
   "cell_type": "markdown",
   "metadata": {},
   "source": [
    "## 1번 "
   ]
  },
  {
   "cell_type": "code",
   "execution_count": 1,
   "metadata": {},
   "outputs": [],
   "source": [
    "# 숫자형은 숫자형이며 %S를 사용한다.\n",
    "\n",
    "# 문자형은  문자형은 일반 한글, 영어와 같은 문자형이며 %d를 사용한다."
   ]
  },
  {
   "cell_type": "markdown",
   "metadata": {},
   "source": [
    "## 2번 "
   ]
  },
  {
   "cell_type": "code",
   "execution_count": 2,
   "metadata": {},
   "outputs": [
    {
     "name": "stdout",
     "output_type": "stream",
     "text": [
      "-72\n"
     ]
    }
   ],
   "source": [
    "a=7 \n",
    "b=10\n",
    "\n",
    "c=a+b*2\n",
    "c%=5\n",
    "c**=3\n",
    "c-=c*10\n",
    "\n",
    "print(c)"
   ]
  },
  {
   "cell_type": "markdown",
   "metadata": {},
   "source": [
    "## 3번 "
   ]
  },
  {
   "cell_type": "code",
   "execution_count": 3,
   "metadata": {},
   "outputs": [
    {
     "name": "stdout",
     "output_type": "stream",
     "text": [
      "반지름을 입력하세요: 10\n",
      "원의 둘레:  62.83 cm\n",
      "원의 넓이: 314.16 cm\n"
     ]
    }
   ],
   "source": [
    "import math\n",
    "a= int(input(\"반지름을 입력하세요: \"))\n",
    "\n",
    "r=10\n",
    "\n",
    "# 원의 둘레 = 2* 파이 * r\n",
    "\n",
    "b= 2* math.pi * r\n",
    "print(\"원의 둘레:  %.2f cm\" %(b))\n",
    "# 원의 면적 = 2 * pi * r^2\n",
    "\n",
    "c=  math.pi * r**2\n",
    "print(\"원의 넓이: %.2f cm\" %(c))"
   ]
  },
  {
   "cell_type": "markdown",
   "metadata": {},
   "source": [
    "## 4 "
   ]
  },
  {
   "cell_type": "code",
   "execution_count": 24,
   "metadata": {},
   "outputs": [
    {
     "name": "stdout",
     "output_type": "stream",
     "text": [
      "책값을 입력하세요 :15000\n",
      "할인율을 입력하세요(%) :15\n",
      "배송료를 입력하세요 :3000\n",
      "결제금액: 15750.0 원\n"
     ]
    }
   ],
   "source": [
    "a= int(input(\"책값을 입력하세요 :\"))\n",
    "b= int(input(\"할인율을 입력하세요(%) :\"))\n",
    "c= int(input(\"배송료를 입력하세요 :\"))\n",
    "cost = (a - (a*b / 100) + c )\n",
    "\n",
    "print(\"결제금액:\",cost,\"원\")"
   ]
  },
  {
   "cell_type": "markdown",
   "metadata": {},
   "source": [
    "# 5"
   ]
  },
  {
   "cell_type": "code",
   "execution_count": 26,
   "metadata": {},
   "outputs": [
    {
     "name": "stdout",
     "output_type": "stream",
     "text": [
      "이름을 입력하세요 :안지영\n",
      "현재년을 입력하세요 :2020\n",
      "탄생년을 입력하세요 :1997\n",
      "안지영님의 나이는 24입니다! \n"
     ]
    }
   ],
   "source": [
    "a= str(input(\"이름을 입력하세요 :\"))\n",
    "b= int(input(\"현재년을 입력하세요 :\"))\n",
    "c= int(input(\"탄생년을 입력하세요 :\"))\n",
    "age = b- c +1\n",
    "\n",
    "print(\"%s님의 나이는 %d입니다! \" %(a,age))"
   ]
  },
  {
   "cell_type": "markdown",
   "metadata": {},
   "source": [
    "# 6 "
   ]
  },
  {
   "cell_type": "code",
   "execution_count": 27,
   "metadata": {},
   "outputs": [
    {
     "name": "stdout",
     "output_type": "stream",
     "text": [
      "연을 입력하세요 :2020\n",
      "월을 입력하세요 :1\n",
      "일을 입력하세요 :5\n",
      "2020-01-05\n"
     ]
    }
   ],
   "source": [
    "year= int(input(\"연을 입력하세요 :\"))\n",
    "month= int(input(\"월을 입력하세요 :\"))\n",
    "day= int(input(\"일을 입력하세요 :\"))\n",
    "\n",
    "d= '%d-%02d-%02d' %(year,month,day)\n",
    "print(d)\n"
   ]
  },
  {
   "cell_type": "code",
   "execution_count": null,
   "metadata": {},
   "outputs": [],
   "source": []
  },
  {
   "cell_type": "markdown",
   "metadata": {},
   "source": [
    "# 3장 연습문제(P134~135)"
   ]
  },
  {
   "cell_type": "markdown",
   "metadata": {},
   "source": [
    "# 1 "
   ]
  },
  {
   "cell_type": "code",
   "execution_count": 12,
   "metadata": {},
   "outputs": [
    {
     "name": "stdout",
     "output_type": "stream",
     "text": [
      "a의 값을 입력하시오: -10\n",
      "b의 값을 입력하시오: 10\n",
      "C의 값을 입력하시오: -2\n",
      "True\n",
      "False\n",
      "True\n"
     ]
    }
   ],
   "source": [
    "a= int(input(\"a의 값을 입력하시오: \"))\n",
    "b= int(input(\"b의 값을 입력하시오: \"))\n",
    "c= int(input(\"C의 값을 입력하시오: \"))\n",
    "\n",
    "\n",
    "print(True) if a!=2 else print(False)\n",
    "print(True) if not(b>=a) else print(False)\n",
    "print(True) if c/2 > a*3 else print(False)"
   ]
  },
  {
   "cell_type": "markdown",
   "metadata": {},
   "source": [
    "# 2 "
   ]
  },
  {
   "cell_type": "code",
   "execution_count": 23,
   "metadata": {},
   "outputs": [
    {
     "name": "stdout",
     "output_type": "stream",
     "text": [
      "a의 값을 입력하시오: -3\n",
      "b의 값을 입력하시오: 10\n",
      "C의 값을 입력하시오: 2\n",
      "False\n",
      "True\n"
     ]
    }
   ],
   "source": [
    "a= int(input(\"a의 값을 입력하시오: \"))\n",
    "b= int(input(\"b의 값을 입력하시오: \"))\n",
    "c= int(input(\"C의 값을 입력하시오: \"))\n",
    "\n",
    "\n",
    "print(True) if a>2 or c>b and c>2 else print(False)\n",
    "print(True) if not(a>5 or b>c and c>=3) else print(False)\n"
   ]
  },
  {
   "cell_type": "code",
   "execution_count": null,
   "metadata": {},
   "outputs": [],
   "source": [
    "print(True) not(a>5 or b>c and c>=3) else print(False)"
   ]
  },
  {
   "cell_type": "markdown",
   "metadata": {},
   "source": [
    "# 3 "
   ]
  },
  {
   "cell_type": "code",
   "execution_count": 28,
   "metadata": {},
   "outputs": [
    {
     "name": "stdout",
     "output_type": "stream",
     "text": [
      "4\n"
     ]
    }
   ],
   "source": [
    "a=2\n",
    "z = a * 5\n",
    "w = (z-3) * (a-2) / 7+10\n",
    "\n",
    "if a> z or w>a:\n",
    "    y = 2* a\n",
    "else: \n",
    "    y= 4* a\n",
    "print(y)"
   ]
  },
  {
   "cell_type": "markdown",
   "metadata": {},
   "source": [
    "\n",
    "# 4"
   ]
  },
  {
   "cell_type": "code",
   "execution_count": 29,
   "metadata": {},
   "outputs": [
    {
     "name": "stdout",
     "output_type": "stream",
     "text": [
      "단위를 입력하세요: (1: 섭씨, 2:화씨)2\n",
      "온도를 입력하세요: 80\n",
      "물의 섭씨 온도: 26  상태: 액체\n"
     ]
    }
   ],
   "source": [
    "a= int(input('단위를 입력하세요: (1: 섭씨, 2:화씨)'))\n",
    "b= int(input('온도를 입력하세요: '))\n",
    "z= (b -32) * 5 / 9\n",
    "\n",
    "print(\"물의 섭씨 온도: %d  상태: 액체\" %(z))"
   ]
  },
  {
   "cell_type": "markdown",
   "metadata": {},
   "source": [
    "# 5 "
   ]
  },
  {
   "cell_type": "code",
   "execution_count": 30,
   "metadata": {},
   "outputs": [
    {
     "name": "stdout",
     "output_type": "stream",
     "text": [
      "아이디를 입력하세요: rubato\n",
      "회원 레벨을 입력해 주세요:3\n",
      "일부 콘텐츠 이용 가능\n"
     ]
    }
   ],
   "source": [
    "a= str(input(\"아이디를 입력하세요: \"))\n",
    "b= int(input(\"회원 레벨을 입력해 주세요:\"))\n",
    "\n",
    "if a != \"admin\" or  2 <= b <= 7 :\n",
    "    print(\"일부 콘텐츠 이용 가능\")\n",
    "else : \n",
    "    print(\"모든 콘텐츠 이용 가능\")"
   ]
  },
  {
   "cell_type": "markdown",
   "metadata": {},
   "source": [
    "# 6 "
   ]
  },
  {
   "cell_type": "code",
   "execution_count": 31,
   "metadata": {},
   "outputs": [
    {
     "name": "stdout",
     "output_type": "stream",
     "text": [
      "나이를 입력하세요: 6\n",
      "입장료는 1000원입니다.\n"
     ]
    }
   ],
   "source": [
    "a= int(input(\"나이를 입력하세요: \"))\n",
    "\n",
    "if a<=10 :\n",
    "    print(\"입장료는 1000원입니다.\")\n",
    "elif a >=65:\n",
    "    print(\"입장료는 0원입니다.\")\n",
    "else: \n",
    "    print(\"기본 입장료는 2000원입니다.\")"
   ]
  },
  {
   "cell_type": "markdown",
   "metadata": {},
   "source": [
    "# 7 "
   ]
  },
  {
   "cell_type": "code",
   "execution_count": 32,
   "metadata": {},
   "outputs": [
    {
     "name": "stdout",
     "output_type": "stream",
     "text": [
      "영어시험 점수를 입력하세요: 85\n",
      "수학시험 점수를 입력하세요: 75\n",
      "재시험 기회제공\n"
     ]
    }
   ],
   "source": [
    "a= int(input(\"영어시험 점수를 입력하세요: \"))\n",
    "b= int(input(\"수학시험 점수를 입력하세요: \"))\n",
    "\n",
    "if a>=80 and b>=80 :\n",
    "    print(\"합격\")\n",
    "elif a<80 and b <80 :\n",
    "    print(\"불합격\")\n",
    "else :\n",
    "    print(\"재시험 기회제공\")"
   ]
  },
  {
   "cell_type": "code",
   "execution_count": null,
   "metadata": {},
   "outputs": [],
   "source": [
    "\n"
   ]
  }
 ],
 "metadata": {
  "kernelspec": {
   "display_name": "Python 3",
   "language": "python",
   "name": "python3"
  },
  "language_info": {
   "codemirror_mode": {
    "name": "ipython",
    "version": 3
   },
   "file_extension": ".py",
   "mimetype": "text/x-python",
   "name": "python",
   "nbconvert_exporter": "python",
   "pygments_lexer": "ipython3",
   "version": "3.7.6"
  }
 },
 "nbformat": 4,
 "nbformat_minor": 4
}
