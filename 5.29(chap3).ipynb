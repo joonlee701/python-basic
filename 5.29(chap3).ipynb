{
 "cells": [
  {
   "cell_type": "markdown",
   "metadata": {},
   "source": [
    "# chapter 03. 조건문"
   ]
  },
  {
   "cell_type": "code",
   "execution_count": 1,
   "metadata": {},
   "outputs": [
    {
     "name": "stdout",
     "output_type": "stream",
     "text": [
      "숫자를 입력하세요 : 0\n",
      "0 또는 음수!\n"
     ]
    }
   ],
   "source": [
    "# 예제 3-1\n",
    "\n",
    "x = int(input(\"숫자를 입력하세요 : \"))\n",
    "\n",
    "if x > 0 :\n",
    "    print(\"양수\")\n",
    "else :\n",
    "    print(\"0 또는 음수!\")\n"
   ]
  },
  {
   "cell_type": "code",
   "execution_count": 2,
   "metadata": {},
   "outputs": [
    {
     "name": "stdout",
     "output_type": "stream",
     "text": [
      "True\n",
      "True\n",
      "True \n",
      "\n",
      "\n",
      "True\n",
      "False\n",
      "False\n",
      "True \n",
      "\n",
      "\n",
      "False\n"
     ]
    }
   ],
   "source": [
    "# 예제 3-2\n",
    "\n",
    "x=10\n",
    "y=3\n",
    "\n",
    "print(x>9)\n",
    "print(x<=10)\n",
    "print(x+y ==13, '\\n\\n')\n",
    "print(x%2 ==0)\n",
    "print(y%2 ==0)\n",
    "print(x %4 ==0)\n",
    "print(x %4 ==2,'\\n\\n')\n",
    "print(y % 3 !=0)\n"
   ]
  },
  {
   "cell_type": "code",
   "execution_count": 3,
   "metadata": {},
   "outputs": [
    {
     "name": "stdout",
     "output_type": "stream",
     "text": [
      "숫자를 입력하세요 :0\n",
      "짝수이다\n"
     ]
    }
   ],
   "source": [
    "# 예제 3-3\n",
    "\n",
    "num = int(input(\"숫자를 입력하세요 :\"))\n",
    "\n",
    "if num %2 ==0:\n",
    "    print(\"짝수이다\")\n",
    "else :\n",
    "    print(\"홀수이다.\")"
   ]
  },
  {
   "cell_type": "code",
   "execution_count": 4,
   "metadata": {},
   "outputs": [
    {
     "name": "stdout",
     "output_type": "stream",
     "text": [
      "숫자를 입력하세요 :0\n",
      "0이 아니다\n"
     ]
    }
   ],
   "source": [
    "# 내 맘대로 작성한 코드 \n",
    "\n",
    "num = int(input(\"숫자를 입력하세요 :\"))\n",
    "\n",
    "if num %2 ==0:\n",
    "    if num != 0:\n",
    "        print(\"짝수이다\")\n",
    "    else: \n",
    "        print(\"0이 아니다\")\n",
    "else :\n",
    "    print(\"홀수이다.\")"
   ]
  },
  {
   "cell_type": "code",
   "execution_count": 5,
   "metadata": {},
   "outputs": [],
   "source": [
    "# 50 < x <=70인 문제는\n",
    " \n",
    "# if x>50 and x <=70:\n",
    "\n"
   ]
  },
  {
   "cell_type": "code",
   "execution_count": null,
   "metadata": {},
   "outputs": [],
   "source": []
  },
  {
   "cell_type": "code",
   "execution_count": 6,
   "metadata": {},
   "outputs": [
    {
     "name": "stdout",
     "output_type": "stream",
     "text": [
      "필기성적을 입력하세요: 0\n",
      "실기성적을 입력하세요: 0\n",
      "불합격!\n"
     ]
    }
   ],
   "source": [
    "# 예제 3-4\n",
    "\n",
    "score1 = int(input(\"필기성적을 입력하세요: \"))\n",
    "score2 = int(input(\"실기성적을 입력하세요: \"))\n",
    "\n",
    "if score1 >= 80 and score2 >= 80:\n",
    "    print(\"합격\")\n",
    "else :\n",
    "    print(\"불합격!\")"
   ]
  },
  {
   "cell_type": "code",
   "execution_count": 7,
   "metadata": {},
   "outputs": [
    {
     "name": "stdout",
     "output_type": "stream",
     "text": [
      "아이디를 입력하세요 :0\n",
      "회원 레벨을 입력하세요:0\n",
      "관리자가 아니다\n"
     ]
    }
   ],
   "source": [
    "# 예제 3-5\n",
    "\n",
    "id = input(\"아이디를 입력하세요 :\")\n",
    "level = int(input('회원 레벨을 입력하세요:'))\n",
    "\n",
    "if id == 'admin' or level==1:\n",
    "    print('관리자이다')\n",
    "else: \n",
    "    print('관리자가 아니다')"
   ]
  },
  {
   "cell_type": "code",
   "execution_count": 8,
   "metadata": {},
   "outputs": [
    {
     "name": "stdout",
     "output_type": "stream",
     "text": [
      "이름을 입력하세요 : 0\n",
      "이름: 0\n"
     ]
    }
   ],
   "source": [
    "# 예제 3-6\n",
    "\n",
    "name  = input('이름을 입력하세요 : ')\n",
    "\n",
    "if not name :\n",
    "    print('이름이 입력되지 않았습니다.')\n",
    "    \n",
    "else: \n",
    "    print(\"이름: %s\" % name)"
   ]
  },
  {
   "cell_type": "code",
   "execution_count": 9,
   "metadata": {},
   "outputs": [
    {
     "name": "stdout",
     "output_type": "stream",
     "text": [
      "True\n",
      "False\n",
      "False\n",
      "True\n"
     ]
    }
   ],
   "source": [
    "# 예제 3-7\n",
    "\n",
    "print(True) if 15 else print(False)\n",
    "print(True) if 0 else print(False)\n",
    "print(True) if None else print(False)\n",
    "print(True) if '홍길동' else print(False)"
   ]
  },
  {
   "cell_type": "code",
   "execution_count": 10,
   "metadata": {},
   "outputs": [
    {
     "name": "stdout",
     "output_type": "stream",
     "text": [
      "나이를 입력하시오 :0\n",
      "입장료 : 무료\n"
     ]
    }
   ],
   "source": [
    "# 예제 3-8\n",
    "\n",
    "age = int(input(\"나이를 입력하시오 :\"))\n",
    "\n",
    "pay = '3000'\n",
    "\n",
    "if age >= 65 or age < 7:\n",
    "    pay = '무료'\n",
    "    \n",
    "print('입장료 : %s' %pay)"
   ]
  },
  {
   "cell_type": "code",
   "execution_count": 11,
   "metadata": {},
   "outputs": [
    {
     "name": "stdout",
     "output_type": "stream",
     "text": [
      "비밀번호를 입력하세요: 0\n",
      "비밀번호 Not OK!\n"
     ]
    }
   ],
   "source": [
    "# 예제 3-9\n",
    "\n",
    "answer = '12345'\n",
    "password = input('비밀번호를 입력하세요: ')\n",
    "\n",
    "if password == answer :\n",
    "    print('비밀번호 OK!')\n",
    "else: \n",
    "    print('비밀번호 Not OK!')\n"
   ]
  },
  {
   "cell_type": "code",
   "execution_count": 12,
   "metadata": {},
   "outputs": [
    {
     "name": "stdout",
     "output_type": "stream",
     "text": [
      "점수를 입력하세요 : 0\n",
      "성적 : 0점 \n",
      "등급 : F \n"
     ]
    }
   ],
   "source": [
    "# 예제 3-10\n",
    "\n",
    "score = int(input(\"점수를 입력하세요 : \"))\n",
    "sc = score\n",
    "\n",
    "if sc >=90:\n",
    "    grade = 'A'\n",
    "elif sc >=80 :\n",
    "    grade = 'B'\n",
    "elif sc >=70 :\n",
    "    grade = 'C'\n",
    "elif sc >= 60:\n",
    "    grade = 'D'\n",
    "else:\n",
    "    grade = \"F\"\n",
    "    \n",
    "print('성적 : %d점 ' % score)\n",
    "print('등급 : %s ' % grade)"
   ]
  },
  {
   "cell_type": "code",
   "execution_count": 13,
   "metadata": {},
   "outputs": [
    {
     "name": "stdout",
     "output_type": "stream",
     "text": [
      "월을 입력하세요 :0\n"
     ]
    }
   ],
   "source": [
    "# Q3-1\n",
    "\n",
    "month = int(input(\"월을 입력하세요 :\"))\n",
    "\n",
    "if month >=3 and month <= 5:\n",
    "    print('%s 월은 봄입니다.' % month )\n",
    "if month >= 6 and month <=8 :\n",
    "    print('%s월은 여름입니다.' % month)\n",
    "if month >= 9 and month <=11 :\n",
    "    print('%s월은 가을입니다.' % month)\n",
    "if month == 12 or month ==1 or month==2 :\n",
    "    print('%s월은 겨울입니다.' % month)\n",
    "    "
   ]
  },
  {
   "cell_type": "code",
   "execution_count": 20,
   "metadata": {},
   "outputs": [
    {
     "name": "stdout",
     "output_type": "stream",
     "text": [
      "좌석 종류를 입력해주세요 (1:일반실 , 2:특실) :1\n"
     ]
    }
   ],
   "source": [
    "# Q3-2\n",
    "\n",
    "a= input(\"좌석 종류를 입력해주세요 (1:일반실 , 2:특실) :\")\n",
    "\n",
    "seat1 = \"일반실\"\n",
    "seat2 = \"특실\"\n",
    "\n",
    "if a == 1:\n",
    "    print(\"%s 입니다.\" % seat1)\n",
    "elif a==2 :\n",
    "    print(\"%s 입니다.\" % seat2)"
   ]
  },
  {
   "cell_type": "code",
   "execution_count": null,
   "metadata": {},
   "outputs": [],
   "source": [
    "# if문으로 만 나이 계산하기 \n",
    "\n",
    "age = int(input(\"나이를 입력하시오:\"))\n",
    "\n",
    "if age "
   ]
  },
  {
   "cell_type": "code",
   "execution_count": null,
   "metadata": {},
   "outputs": [],
   "source": []
  },
  {
   "cell_type": "code",
   "execution_count": null,
   "metadata": {},
   "outputs": [],
   "source": []
  },
  {
   "cell_type": "code",
   "execution_count": null,
   "metadata": {},
   "outputs": [],
   "source": []
  },
  {
   "cell_type": "code",
   "execution_count": null,
   "metadata": {},
   "outputs": [],
   "source": []
  },
  {
   "cell_type": "code",
   "execution_count": null,
   "metadata": {},
   "outputs": [],
   "source": []
  },
  {
   "cell_type": "code",
   "execution_count": null,
   "metadata": {},
   "outputs": [],
   "source": []
  },
  {
   "cell_type": "code",
   "execution_count": null,
   "metadata": {},
   "outputs": [],
   "source": []
  },
  {
   "cell_type": "code",
   "execution_count": null,
   "metadata": {},
   "outputs": [],
   "source": []
  },
  {
   "cell_type": "code",
   "execution_count": null,
   "metadata": {},
   "outputs": [],
   "source": []
  },
  {
   "cell_type": "code",
   "execution_count": null,
   "metadata": {},
   "outputs": [],
   "source": []
  },
  {
   "cell_type": "code",
   "execution_count": null,
   "metadata": {},
   "outputs": [],
   "source": []
  },
  {
   "cell_type": "code",
   "execution_count": null,
   "metadata": {},
   "outputs": [],
   "source": []
  },
  {
   "cell_type": "code",
   "execution_count": null,
   "metadata": {},
   "outputs": [],
   "source": []
  },
  {
   "cell_type": "code",
   "execution_count": null,
   "metadata": {},
   "outputs": [],
   "source": [
    "0\n"
   ]
  }
 ],
 "metadata": {
  "kernelspec": {
   "display_name": "Python 3",
   "language": "python",
   "name": "python3"
  },
  "language_info": {
   "codemirror_mode": {
    "name": "ipython",
    "version": 3
   },
   "file_extension": ".py",
   "mimetype": "text/x-python",
   "name": "python",
   "nbconvert_exporter": "python",
   "pygments_lexer": "ipython3",
   "version": "3.7.6"
  }
 },
 "nbformat": 4,
 "nbformat_minor": 4
}
